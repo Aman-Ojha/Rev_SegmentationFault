{
 "cells": [
  {
   "cell_type": "markdown",
   "metadata": {},
   "source": [
    "\n",
    "\"\"\"import pandas as pd\n",
    "df=pd.read_csv(\"credit_train.csv\")\n",
    "df=df.rename(columns={\"Customer ID\": \"Bank Id\",\"Years in current job\":\"No.of Years\"})\n",
    "df['No.of Years'] = df['No.of Years'].str.replace(r'\\D', '')\n",
    "df = df[df['Credit Score'].notna()]\n",
    "df['Term'] = df['Term'].replace(['Short Term'],1.3)\n",
    "df['Term'] = df['Term'].replace(['Long Term'],1.8)\n",
    "df[\"Credit Score\"]=df[\"Credit Score\"]%10+0.5\n",
    "df[\"No.of Years\"] = pd.to_numeric(df[\"No.of Years\"], downcast=\"float\")\n",
    "\n",
    "df[\"Interest\"]=df[\"Credit Score\"]*df[\"Term\"]*df[\"No.of Years\"]\n",
    "df=df.drop([\"Home Ownership\",\"Term\",\"Credit Score\",'Months since last delinquent',\"Number of Open Accounts\",\"Annual Income\", 'Bankruptcies',\"Tax Liens\",\"Maximum Open Credit\",\"Number of Credit Problems\",\"Years of Credit History\"], axis=1)\n",
    "df=df[df[\"Interest\"]<35]\n",
    "df=df.dropna()\n",
    "\n",
    "df=df.reset_index(drop=True)\n",
    "for i in range(len(df)):\n",
    "    if df[\"Current Loan Amount\"][i]<df[\"Current Credit Balance\"][i]:\n",
    "        df[\"Current Loan Amount\"][i],df[\"Current Credit Balance\"][i]=df[\"Current Credit Balance\"][i],df[\"Current Loan Amount\"][i]\n",
    "df=df[[\"Loan ID\",\"Bank Id\",\"Purpose\",\"No.of Years\",\"Current Loan Amount\",\"Monthly Debt\",\"Interest\",\"Current Credit Balance\"]]\"\"\""
   ]
  },
  {
   "cell_type": "code",
   "execution_count": 40,
   "metadata": {},
   "outputs": [],
   "source": [
    "import pandas as pd\n",
    "def send_json(file_name):\n",
    "    def Transaction(df):\n",
    "        D={}\n",
    "        for i in range(len(df[\"transactions\"][0])):\n",
    "            d={}\n",
    "            f=df[\"transactions\"][0][i]\n",
    "            d[\"Type\"]=f[\"Type\"]\n",
    "            d[\"Mode\"]=f[\"Mode\"]\n",
    "            d[\"Amount\"]=f['Amount']\n",
    "            d[\"CurrentBalance\"]=f[\"CurrentBalance\"]\n",
    "            d[\"valueDate\"]=f[\"valueDate\"]  \n",
    "            D[f['Txnid']]=d\n",
    "\n",
    "        return D\n",
    "\n",
    "    def SUMMA(df):\n",
    "        d={}\n",
    "        d[\"Type\"]=df['summary.Type'][0]\n",
    "        d[\"OpenDate\"]=df[\"summary.openingDate\"][0]\n",
    "        d[\"Currency\"]=df['summary.Currency'][0]\n",
    "        d[\"BalanceDate\"]=df['summary.balanceDateTime'][0][:len(\"2020-06-22\")]\n",
    "        d[\"CurrentBalance\"]=df['summary.CurrentBalance'][0]\n",
    "        d[\"Branch\"]=df[\"summary.branch\"][0]\n",
    "        d[\"Staus\"]=df['summary.Status'][0]\n",
    "        return d\n",
    "    \n",
    "    def SUMMARY(df):\n",
    "        summary={}\n",
    "        summary[\"Type\"]=df[\"profile.Account.fitype\"][0]\n",
    "        summary[\"Freq\"]=df['summary.compoundingFrequency'][0]\n",
    "        summary[\"tenure_days\"]=df['summary.tenureDays'][0]\n",
    "        summary[\"tenure_months\"]=df['summary.tenureMonths'][0]\n",
    "        summary[\"Interest\"]=df[\"summary.interestRate\"][0]\n",
    "        summary[\"OpenDate\"]=df['summary.openingDate'][0]\n",
    "        summary[\"Principle\"]=df['summary.principalAmount'][0]\n",
    "        try:\n",
    "            summary[\"RA\"]=df['summary.recurringAmount'][0]\n",
    "        except:\n",
    "            print(\"\")\n",
    "        summary[\"EndDate\"]=df[\"summary.maturityDate\"][0]\n",
    "        summary[\"InterestAmount\"]=df[\"summary.interestOnMaturity\"][0]\n",
    "        summary[\"Current\"]=df['summary.currentValue'][0]\n",
    "        summary[\"MaturityAmount\"]=df[\"summary.maturityAmount\"][0]\n",
    "        return summary\n",
    "\n",
    "    def Profile(df):\n",
    "        dick=df[\"profile.Holders.Holder\"][0][0]\n",
    "        dick[\"Account Number\"]=df[\"profile.Account.number\"][0]\n",
    "        dick[\"Account Type\"]=df[\"profile.Account.acctype\"][0]\n",
    "        dick[\"fitype\"]=df[\"profile.Holders.type\"][0]\n",
    "        dick[\"IFSC\"]=df[\"summary.ifsc\"][0]\n",
    "        try:\n",
    "            dick[\"CurrentAmount\"]=df['summary.currentValue'][0]\n",
    "        except:\n",
    "            dick[\"CurrentAmount\"]=df['summary.CurrentBalance'][0]\n",
    "        return dick\n",
    "    \n",
    "    def Trans(df):\n",
    "        D={}\n",
    "        for i in range(len(df['transactions'][0])):\n",
    "            d={}\n",
    "            f=df['transactions'][0][i]\n",
    "            #d['Txnid']=f['Txnid']\n",
    "            d['Amount']=f['Amount']\n",
    "            d['Balance']=f['Balance']\n",
    "            d['valueDate']=f['valueDate'][:len(\"2020-01-22\")]\n",
    "            try:\n",
    "                d['TransactionsEndDate']=f['TransactionsEndDate']\n",
    "            except:\n",
    "                d[\"endDate\"]=f['endDate']\n",
    "            D[f['Txnid']]=d\n",
    "        return D\n",
    "    \n",
    "    df1=pd.read_json(file_name)\n",
    "    names=[\"transactions\",\"fixed\",\"recurring\"]\n",
    "    d={}\n",
    "    A=pd.json_normalize(df1[\"accounts\"][0])  ### Transact\n",
    "    B=pd.json_normalize(df1[\"accounts\"][1]) ####FD\n",
    "    C=pd.json_normalize(df1[\"accounts\"][2])\n",
    "    D={}\n",
    "    D[\"profile\"]=Profile(A)\n",
    "    D[\"summary\"]=SUMMA(A)\n",
    "    D[\"Details\"]=Transaction(A)\n",
    "    d[\"transactions\"]=D\n",
    "    D={}\n",
    "\n",
    "    D[\"profile\"]=Profile(B)\n",
    "    D[\"summary\"]=SUMMARY(B)\n",
    "    D[\"Details\"]=Trans(B)\n",
    "    d[\"fixed\"]=D\n",
    "    D={}\n",
    "\n",
    "    D[\"profile\"]=Profile(C)\n",
    "    D[\"summary\"]=SUMMARY(C)\n",
    "    D[\"Details\"]=Trans(C)\n",
    "    d[\"recurring\"]=D\n",
    "    return d\n",
    "    \n",
    "    \n",
    "    "
   ]
  },
  {
   "cell_type": "code",
   "execution_count": 41,
   "metadata": {},
   "outputs": [],
   "source": [
    "file_name=\"data.json\"\n",
    "df1=pd.read_json(file_name)"
   ]
  },
  {
   "cell_type": "code",
   "execution_count": 43,
   "metadata": {},
   "outputs": [
    {
     "name": "stdout",
     "output_type": "stream",
     "text": [
      "\n"
     ]
    },
    {
     "data": {
      "text/plain": [
       "'done'"
      ]
     },
     "execution_count": 43,
     "metadata": {},
     "output_type": "execute_result"
    }
   ],
   "source": [
    "send_json(file_name)\n",
    "\"done\""
   ]
  },
  {
   "cell_type": "code",
   "execution_count": 45,
   "metadata": {},
   "outputs": [],
   "source": [
    "df=pd.json_normalize(df1[\"accounts\"][0])"
   ]
  },
  {
   "cell_type": "code",
   "execution_count": 47,
   "metadata": {},
   "outputs": [],
   "source": [
    "z=Transaction(A)"
   ]
  },
  {
   "cell_type": "code",
   "execution_count": 49,
   "metadata": {},
   "outputs": [
    {
     "name": "stdout",
     "output_type": "stream",
     "text": [
      "M3258741 {'Type': 'DEBIT', 'Mode': 'UPI', 'Amount': '1239', 'CurrentBalance': '62289.25', 'valueDate': '2019-12-19'}\n",
      "M3917183 {'Type': 'DEBIT', 'Mode': 'UPI', 'Amount': '16', 'CurrentBalance': '62073.25', 'valueDate': '2019-12-20'}\n",
      "M4246404 {'Type': 'DEBIT', 'Mode': 'UPI', 'Amount': '1432', 'CurrentBalance': '60641.25', 'valueDate': '2019-12-21'}\n",
      "M5563288 {'Type': 'DEBIT', 'Mode': 'OTHERS', 'Amount': '710.5', 'CurrentBalance': '45595.49', 'valueDate': '2019-12-21'}\n",
      "M5892509 {'Type': 'DEBIT', 'Mode': 'CARD', 'Amount': '4101', 'CurrentBalance': '41494.49', 'valueDate': '2019-12-22'}\n",
      "M6221730 {'Type': 'DEBIT', 'Mode': 'OTHERS', 'Amount': '200', 'CurrentBalance': '41294.49', 'valueDate': '2019-12-22'}\n",
      "M6550951 {'Type': 'DEBIT', 'Mode': 'ATM', 'Amount': '10000', 'CurrentBalance': '31294.49', 'valueDate': '2019-12-25'}\n",
      "M6880172 {'Type': 'DEBIT', 'Mode': 'FT', 'Amount': '2138', 'CurrentBalance': '29156.49', 'valueDate': '2019-12-30'}\n",
      "M7209393 {'Type': 'DEBIT', 'Mode': 'FT', 'Amount': '330', 'CurrentBalance': '28826.49', 'valueDate': '2019-12-30'}\n",
      "M7867835 {'Type': 'CREDIT', 'Mode': 'OTHERS', 'Amount': '518', 'CurrentBalance': '27228.49', 'valueDate': '2019-12-30'}\n",
      "M8526277 {'Type': 'DEBIT', 'Mode': 'FT', 'Amount': '2097.44', 'CurrentBalance': '24769.05', 'valueDate': '2020-01-01'}\n",
      "M9513940 {'Type': 'DEBIT', 'Mode': 'FT', 'Amount': '2024.55', 'CurrentBalance': '22576.5', 'valueDate': '2020-01-03'}\n",
      "M10501603 {'Type': 'DEBIT', 'Mode': 'CARD', 'Amount': '1297', 'CurrentBalance': '21193.5', 'valueDate': '2020-01-05'}\n",
      "M11160045 {'Type': 'DEBIT', 'Mode': 'CASH', 'Amount': '5000', 'CurrentBalance': '16176.5', 'valueDate': '2020-01-05'}\n",
      "M11489266 {'Type': 'DEBIT', 'Mode': 'FT', 'Amount': '5000', 'CurrentBalance': '11176.5', 'valueDate': '2020-01-06'}\n",
      "M11818487 {'Type': 'DEBIT', 'Mode': 'FT', 'Amount': '5000', 'CurrentBalance': '6176.5', 'valueDate': '2020-01-07'}\n",
      "M12147708 {'Type': 'DEBIT', 'Mode': 'FT', 'Amount': '5000', 'CurrentBalance': '1176.5', 'valueDate': '2020-01-07'}\n",
      "M12806150 {'Type': 'DEBIT', 'Mode': 'FT', 'Amount': '3062', 'CurrentBalance': '3114.5', 'valueDate': '2020-01-07'}\n",
      "M14452255 {'Type': 'DEBIT', 'Mode': 'FT', 'Amount': '464', 'CurrentBalance': '31916.5', 'valueDate': '2020-01-09'}\n",
      "M14781476 {'Type': 'CREDIT', 'Mode': 'FT', 'Amount': '50000', 'CurrentBalance': '81916.5', 'valueDate': '2020-01-09'}\n",
      "M15110697 {'Type': 'DEBIT', 'Mode': 'FT', 'Amount': '30000', 'CurrentBalance': '51916.5', 'valueDate': '2020-01-10'}\n",
      "M15439918 {'Type': 'DEBIT', 'Mode': 'CARD', 'Amount': '935.18', 'CurrentBalance': '50981.32', 'valueDate': '2020-01-10'}\n",
      "M15769139 {'Type': 'DEBIT', 'Mode': 'CARD', 'Amount': '540', 'CurrentBalance': '50441.32', 'valueDate': '2020-01-11'}\n",
      "M16098360 {'Type': 'DEBIT', 'Mode': 'UPI', 'Amount': '50', 'CurrentBalance': '50391.32', 'valueDate': '2020-01-12'}\n",
      "M16427581 {'Type': 'CREDIT', 'Mode': 'FT', 'Amount': '150000', 'CurrentBalance': '200391.32', 'valueDate': '2020-01-12'}\n",
      "M16756802 {'Type': 'DEBIT', 'Mode': 'FT', 'Amount': '50000', 'CurrentBalance': '150391.32', 'valueDate': '2020-01-12'}\n",
      "M17086023 {'Type': 'DEBIT', 'Mode': 'FT', 'Amount': '12000', 'CurrentBalance': '138391.32', 'valueDate': '2020-01-12'}\n",
      "M17415244 {'Type': 'DEBIT', 'Mode': 'FT', 'Amount': '12600', 'CurrentBalance': '125791.32', 'valueDate': '2020-01-12'}\n",
      "M18073686 {'Type': 'DEBIT', 'Mode': 'FT', 'Amount': '24827', 'CurrentBalance': '98564.32', 'valueDate': '2020-01-12'}\n",
      "M19390570 {'Type': 'DEBIT', 'Mode': 'ATM', 'Amount': '10000', 'CurrentBalance': '86051.82', 'valueDate': '2020-01-12'}\n",
      "M20049012 {'Type': 'DEBIT', 'Mode': 'UPI', 'Amount': '1000', 'CurrentBalance': '84991.82', 'valueDate': '2020-01-15'}\n",
      "M20707454 {'Type': 'DEBIT', 'Mode': 'CARD', 'Amount': '280', 'CurrentBalance': '84691.82', 'valueDate': '2020-01-17'}\n",
      "M21365896 {'Type': 'DEBIT', 'Mode': 'FT', 'Amount': '881.06', 'CurrentBalance': '83760.759999999995', 'valueDate': '2020-01-18'}\n",
      "M23341222 {'Type': 'DEBIT', 'Mode': 'CASH', 'Amount': '5000', 'CurrentBalance': '66926.759999999995', 'valueDate': '2020-01-24'}\n",
      "M24328885 {'Type': 'DEBIT', 'Mode': 'UPI', 'Amount': '3041.91', 'CurrentBalance': '63394.85', 'valueDate': '2020-01-26'}\n",
      "M24658106 {'Type': 'DEBIT', 'Mode': 'UPI', 'Amount': '203', 'CurrentBalance': '63191.85', 'valueDate': '2020-01-28'}\n",
      "M24987327 {'Type': 'DEBIT', 'Mode': 'FT', 'Amount': '2138', 'CurrentBalance': '61053.85', 'valueDate': '2020-01-30'}\n",
      "M25645769 {'Type': 'DEBIT', 'Mode': 'CARD', 'Amount': '300', 'CurrentBalance': '60728.85', 'valueDate': '2020-01-31'}\n",
      "M25974990 {'Type': 'DEBIT', 'Mode': 'UPI', 'Amount': '980', 'CurrentBalance': '59748.85', 'valueDate': '2020-01-31'}\n",
      "M26304211 {'Type': 'DEBIT', 'Mode': 'UPI', 'Amount': '20', 'CurrentBalance': '59728.85', 'valueDate': '2020-02-01'}\n",
      "M26962653 {'Type': 'DEBIT', 'Mode': 'CASH', 'Amount': '5000', 'CurrentBalance': '54568.85', 'valueDate': '2020-02-02'}\n",
      "M27291874 {'Type': 'DEBIT', 'Mode': 'FT', 'Amount': '5266.26', 'CurrentBalance': '49302.59', 'valueDate': '2020-02-02'}\n",
      "M27621095 {'Type': 'DEBIT', 'Mode': 'CARD', 'Amount': '833', 'CurrentBalance': '48469.59', 'valueDate': '2020-02-03'}\n",
      "M28279537 {'Type': 'DEBIT', 'Mode': 'FT', 'Amount': '2024.55', 'CurrentBalance': '46295.040000000001', 'valueDate': '2020-02-03'}\n",
      "M28937979 {'Type': 'DEBIT', 'Mode': 'CARD', 'Amount': '399', 'CurrentBalance': '45898.29', 'valueDate': '2020-02-05'}\n",
      "M29267200 {'Type': 'DEBIT', 'Mode': 'FT', 'Amount': '5000', 'CurrentBalance': '40898.29', 'valueDate': '2020-02-05'}\n",
      "M29596421 {'Type': 'DEBIT', 'Mode': 'CASH', 'Amount': '10000', 'CurrentBalance': '30898.29', 'valueDate': '2020-02-07'}\n",
      "M29925642 {'Type': 'DEBIT', 'Mode': 'FT', 'Amount': '5000', 'CurrentBalance': '25898.29', 'valueDate': '2020-02-07'}\n",
      "M30254863 {'Type': 'DEBIT', 'Mode': 'FT', 'Amount': '5000', 'CurrentBalance': '20898.29', 'valueDate': '2020-02-07'}\n",
      "M30584084 {'Type': 'DEBIT', 'Mode': 'FT', 'Amount': '3062', 'CurrentBalance': '17836.29', 'valueDate': '2020-02-08'}\n",
      "M30913305 {'Type': 'DEBIT', 'Mode': 'FT', 'Amount': '464', 'CurrentBalance': '17372.29', 'valueDate': '2020-02-08'}\n",
      "M31242526 {'Type': 'DEBIT', 'Mode': 'FT', 'Amount': '100', 'CurrentBalance': '17272.29', 'valueDate': '2020-02-08'}\n",
      "M31571747 {'Type': 'CREDIT', 'Mode': 'FT', 'Amount': '150000', 'CurrentBalance': '167272.29', 'valueDate': '2020-02-08'}\n",
      "M31900968 {'Type': 'DEBIT', 'Mode': 'FT', 'Amount': '12000', 'CurrentBalance': '155272.29', 'valueDate': '2020-02-08'}\n",
      "M32230189 {'Type': 'DEBIT', 'Mode': 'FT', 'Amount': '15000', 'CurrentBalance': '140272.29', 'valueDate': '2020-02-08'}\n",
      "M32559410 {'Type': 'DEBIT', 'Mode': 'FT', 'Amount': '9095', 'CurrentBalance': '131177.29', 'valueDate': '2020-02-08'}\n",
      "M34205515 {'Type': 'DEBIT', 'Mode': 'CARD', 'Amount': '2656', 'CurrentBalance': '121058.29', 'valueDate': '2020-02-10'}\n",
      "M34534736 {'Type': 'DEBIT', 'Mode': 'FT', 'Amount': '30000', 'CurrentBalance': '91058.29', 'valueDate': '2020-02-10'}\n",
      "M35193178 {'Type': 'DEBIT', 'Mode': 'CARD', 'Amount': '2187', 'CurrentBalance': '87500.29', 'valueDate': '2020-02-13'}\n",
      "M35522399 {'Type': 'DEBIT', 'Mode': 'CASH', 'Amount': '300', 'CurrentBalance': '87200.29', 'valueDate': '2020-02-14'}\n",
      "M36180841 {'Type': 'DEBIT', 'Mode': 'FT', 'Amount': '20000.71', 'CurrentBalance': '67005.58', 'valueDate': '2020-02-16'}\n",
      "M37826946 {'Type': 'DEBIT', 'Mode': 'UPI', 'Amount': '18', 'CurrentBalance': '65107.58', 'valueDate': '2020-02-19'}\n",
      "M39143830 {'Type': 'DEBIT', 'Mode': 'CARD', 'Amount': '165', 'CurrentBalance': '64574.58', 'valueDate': '2020-02-21'}\n",
      "M39802272 {'Type': 'DEBIT', 'Mode': 'CASH', 'Amount': '10000', 'CurrentBalance': '53509.58', 'valueDate': '2020-02-22'}\n",
      "M40131493 {'Type': 'DEBIT', 'Mode': 'UPI', 'Amount': '928.55', 'CurrentBalance': '52581.03', 'valueDate': '2020-02-22'}\n",
      "M40789935 {'Type': 'DEBIT', 'Mode': 'FT', 'Amount': '496', 'CurrentBalance': '52090.03', 'valueDate': '2020-02-27'}\n",
      "M41119156 {'Type': 'DEBIT', 'Mode': 'CARD', 'Amount': '170', 'CurrentBalance': '51920.03', 'valueDate': '2020-02-28'}\n",
      "M41777598 {'Type': 'DEBIT', 'Mode': 'FT', 'Amount': '2138', 'CurrentBalance': '49712.03', 'valueDate': '2020-02-29'}\n",
      "M43423703 {'Type': 'DEBIT', 'Mode': 'FT', 'Amount': '2024.55', 'CurrentBalance': '46947.48', 'valueDate': '2020-03-03'}\n",
      "M44082145 {'Type': 'DEBIT', 'Mode': 'CARD', 'Amount': '10000', 'CurrentBalance': '36797.480000000003', 'valueDate': '2020-03-04'}\n",
      "M44411366 {'Type': 'CREDIT', 'Mode': 'FT', 'Amount': '100000', 'CurrentBalance': '136797.48000000001', 'valueDate': '2020-03-04'}\n",
      "M45069808 {'Type': 'DEBIT', 'Mode': 'FT', 'Amount': '5000', 'CurrentBalance': '131235.48000000001', 'valueDate': '2020-03-07'}\n",
      "M45399029 {'Type': 'DEBIT', 'Mode': 'FT', 'Amount': '5000', 'CurrentBalance': '126235.48', 'valueDate': '2020-03-07'}\n",
      "M45728250 {'Type': 'DEBIT', 'Mode': 'FT', 'Amount': '3561.26', 'CurrentBalance': '122674.22', 'valueDate': '2020-03-07'}\n",
      "M46057471 {'Type': 'DEBIT', 'Mode': 'FT', 'Amount': '15000', 'CurrentBalance': '107674.22', 'valueDate': '2020-03-07'}\n",
      "M46386692 {'Type': 'DEBIT', 'Mode': 'FT', 'Amount': '12000', 'CurrentBalance': '95674.22', 'valueDate': '2020-03-07'}\n",
      "M46715913 {'Type': 'DEBIT', 'Mode': 'FT', 'Amount': '17000', 'CurrentBalance': '78674.22', 'valueDate': '2020-03-07'}\n",
      "M47045134 {'Type': 'DEBIT', 'Mode': 'FT', 'Amount': '8559', 'CurrentBalance': '70115.22', 'valueDate': '2020-03-07'}\n",
      "M47374355 {'Type': 'CREDIT', 'Mode': 'FT', 'Amount': '50000', 'CurrentBalance': '120115.22', 'valueDate': '2020-03-07'}\n",
      "M47703576 {'Type': 'DEBIT', 'Mode': 'FT', 'Amount': '6336', 'CurrentBalance': '113779.22', 'valueDate': '2020-03-07'}\n",
      "M48032797 {'Type': 'DEBIT', 'Mode': 'OTHERS', 'Amount': '3062', 'CurrentBalance': '110717.22', 'valueDate': '2020-03-07'}\n",
      "M48362018 {'Type': 'DEBIT', 'Mode': 'FT', 'Amount': '442', 'CurrentBalance': '110275.22', 'valueDate': '2020-03-07'}\n",
      "M49678902 {'Type': 'DEBIT', 'Mode': 'FT', 'Amount': '7534', 'CurrentBalance': '99586.12', 'valueDate': '2020-03-10'}\n",
      "M50008123 {'Type': 'DEBIT', 'Mode': 'FT', 'Amount': '5000', 'CurrentBalance': '94586.12', 'valueDate': '2020-03-11'}\n",
      "M50337344 {'Type': 'DEBIT', 'Mode': 'FT', 'Amount': '30000', 'CurrentBalance': '64586.12', 'valueDate': '2020-03-14'}\n",
      "M50995786 {'Type': 'DEBIT', 'Mode': 'UPI', 'Amount': '600', 'CurrentBalance': '63846.12', 'valueDate': '2020-03-16'}\n",
      "M51325007 {'Type': 'DEBIT', 'Mode': 'ATM', 'Amount': '10000', 'CurrentBalance': '53846.12', 'valueDate': '2020-03-16'}\n",
      "M51654228 {'Type': 'CREDIT', 'Mode': 'FT', 'Amount': '39104.239999999998', 'CurrentBalance': '92950.36', 'valueDate': '2020-03-18'}\n",
      "M51983449 {'Type': 'CREDIT', 'Mode': 'FT', 'Amount': '33070.22', 'CurrentBalance': '126020.58', 'valueDate': '2020-03-19'}\n",
      "M52641891 {'Type': 'CREDIT', 'Mode': 'FT', 'Amount': '62438.37', 'CurrentBalance': '187942.95', 'valueDate': '2020-03-19'}\n",
      "M52971112 {'Type': 'CREDIT', 'Mode': 'FT', 'Amount': '106982.95', 'CurrentBalance': '294925.90000000002', 'valueDate': '2020-03-19'}\n",
      "M53300333 {'Type': 'DEBIT', 'Mode': 'FT', 'Amount': '150000', 'CurrentBalance': '144925.9', 'valueDate': '2020-03-21'}\n",
      "M54946438 {'Type': 'DEBIT', 'Mode': 'FT', 'Amount': '1574', 'CurrentBalance': '92291.82', 'valueDate': '2020-03-25'}\n",
      "M56263322 {'Type': 'DEBIT', 'Mode': 'CASH', 'Amount': '10000', 'CurrentBalance': '81601.460000000006', 'valueDate': '2020-03-29'}\n",
      "M56921764 {'Type': 'CREDIT', 'Mode': 'OTHERS', 'Amount': '594', 'CurrentBalance': '80996.460000000006', 'valueDate': '2020-03-30'}\n",
      "M57250985 {'Type': 'DEBIT', 'Mode': 'FT', 'Amount': '2138', 'CurrentBalance': '78858.460000000006', 'valueDate': '2020-03-30'}\n",
      "M57580206 {'Type': 'DEBIT', 'Mode': 'CARD', 'Amount': '1575', 'CurrentBalance': '77283.460000000006', 'valueDate': '2020-04-02'}\n",
      "M58238648 {'Type': 'DEBIT', 'Mode': 'FT', 'Amount': '503', 'CurrentBalance': '76600.460000000006', 'valueDate': '2020-04-07'}\n",
      "M58897090 {'Type': 'DEBIT', 'Mode': 'FT', 'Amount': '2024.55', 'CurrentBalance': '74425.91', 'valueDate': '2020-04-07'}\n",
      "M59226311 {'Type': 'DEBIT', 'Mode': 'FT', 'Amount': '5000', 'CurrentBalance': '69425.91', 'valueDate': '2020-04-07'}\n",
      "M59555532 {'Type': 'DEBIT', 'Mode': 'FT', 'Amount': '5000', 'CurrentBalance': '64425.91', 'valueDate': '2020-04-07'}\n",
      "M59884753 {'Type': 'DEBIT', 'Mode': 'FT', 'Amount': '5000', 'CurrentBalance': '59425.91', 'valueDate': '2020-04-08'}\n",
      "M60543195 {'Type': 'DEBIT', 'Mode': 'OTHERS', 'Amount': '3062', 'CurrentBalance': '56450.47', 'valueDate': '2020-04-08'}\n",
      "M60872416 {'Type': 'DEBIT', 'Mode': 'FT', 'Amount': '974', 'CurrentBalance': '55476.47', 'valueDate': '2020-04-08'}\n",
      "M61201637 {'Type': 'DEBIT', 'Mode': 'FT', 'Amount': '15408', 'CurrentBalance': '40068.47', 'valueDate': '2020-04-08'}\n",
      "M61530858 {'Type': 'CREDIT', 'Mode': 'FT', 'Amount': '100000', 'CurrentBalance': '140068.47', 'valueDate': '2020-04-09'}\n",
      "M61860079 {'Type': 'DEBIT', 'Mode': 'FT', 'Amount': '15000', 'CurrentBalance': '125068.47', 'valueDate': '2020-04-09'}\n",
      "M62189300 {'Type': 'DEBIT', 'Mode': 'FT', 'Amount': '12000', 'CurrentBalance': '115068.47', 'valueDate': '2020-04-09'}\n",
      "M64164626 {'Type': 'DEBIT', 'Mode': 'FT', 'Amount': '30000', 'CurrentBalance': '69343.47', 'valueDate': '2020-04-25'}\n",
      "M66469173 {'Type': 'DEBIT', 'Mode': 'FT', 'Amount': '3294', 'CurrentBalance': '64190.97', 'valueDate': '2020-05-02'}\n",
      "M67127615 {'Type': 'DEBIT', 'Mode': 'FT', 'Amount': '2138', 'CurrentBalance': '61962.97', 'valueDate': '2020-05-04'}\n",
      "M68444499 {'Type': 'DEBIT', 'Mode': 'FT', 'Amount': '2024.55', 'CurrentBalance': '59243.42', 'valueDate': '2020-05-06'}\n",
      "M68773720 {'Type': 'CREDIT', 'Mode': 'FT', 'Amount': '150000', 'CurrentBalance': '159243.42000000001', 'valueDate': '2020-05-07'}\n",
      "M69761383 {'Type': 'DEBIT', 'Mode': 'FT', 'Amount': '5000', 'CurrentBalance': '147857.42000000001', 'valueDate': '2020-05-09'}\n",
      "M70090604 {'Type': 'DEBIT', 'Mode': 'OTHERS', 'Amount': '3062', 'CurrentBalance': '144795.42000000001', 'valueDate': '2020-05-09'}\n",
      "M70419825 {'Type': 'DEBIT', 'Mode': 'FT', 'Amount': '12000', 'CurrentBalance': '135795.42000000001', 'valueDate': '2020-05-09'}\n",
      "M70749046 {'Type': 'DEBIT', 'Mode': 'FT', 'Amount': '9000', 'CurrentBalance': '131053.42', 'valueDate': '2020-05-10'}\n",
      "M71078267 {'Type': 'DEBIT', 'Mode': 'FT', 'Amount': '4742', 'CurrentBalance': '115657.42', 'valueDate': '2020-05-11'}\n",
      "M71407488 {'Type': 'DEBIT', 'Mode': 'FT', 'Amount': '15000', 'CurrentBalance': '100657.42', 'valueDate': '2020-05-15'}\n",
      "M72065930 {'Type': 'DEBIT', 'Mode': 'FT', 'Amount': '30000', 'CurrentBalance': '70600.42', 'valueDate': '2020-05-19'}\n",
      "M73712035 {'Type': 'DEBIT', 'Mode': 'OTHERS', 'Amount': '12', 'CurrentBalance': '68415.42', 'valueDate': '2020-05-24'}\n",
      "M74041256 {'Type': 'DEBIT', 'Mode': 'FT', 'Amount': '4058', 'CurrentBalance': '64357.42', 'valueDate': '2020-05-25'}\n",
      "M75358140 {'Type': 'DEBIT', 'Mode': 'FT', 'Amount': '2138', 'CurrentBalance': '61125.42', 'valueDate': '2020-06-03'}\n",
      "M76675024 {'Type': 'DEBIT', 'Mode': 'FT', 'Amount': '2024.55', 'CurrentBalance': '50851.87', 'valueDate': '2020-06-04'}\n",
      "M77333466 {'Type': 'CREDIT', 'Mode': 'FT', 'Amount': '100000', 'CurrentBalance': '141851.87', 'valueDate': '2020-06-08'}\n",
      "M77991908 {'Type': 'DEBIT', 'Mode': 'FT', 'Amount': '3000', 'CurrentBalance': '133851.87', 'valueDate': '2020-06-11'}\n",
      "M78321129 {'Type': 'DEBIT', 'Mode': 'OTHERS', 'Amount': '3062', 'CurrentBalance': '130789.87', 'valueDate': '2020-06-11'}\n",
      "M78650350 {'Type': 'DEBIT', 'Mode': 'FT', 'Amount': '30000', 'CurrentBalance': '100789.87', 'valueDate': '2020-06-11'}\n",
      "M78979571 {'Type': 'CREDIT', 'Mode': 'FT', 'Amount': '16037.22', 'CurrentBalance': '116827.09', 'valueDate': '2020-06-13'}\n",
      "M79308792 {'Type': 'CREDIT', 'Mode': 'FT', 'Amount': '15691.88', 'CurrentBalance': '132518.97', 'valueDate': '2020-06-16'}\n"
     ]
    }
   ],
   "source": [
    "a=[]\n",
    "d=[]\n",
    "for i in z:\n",
    "    #print(i,z[i])\n",
    "    z[i][\"Amount\"]=float(z[i][\"Amount\"])\n",
    "    z[i][\"CurrentBalance\"]=float(z[i][\"CurrentBalance\"])\n",
    "    a.append(float(z[i][\"CurrentBalance\"]))\n",
    "    b.append(z['valueDate'])"
   ]
  },
  {
   "cell_type": "code",
   "execution_count": 51,
   "metadata": {},
   "outputs": [],
   "source": [
    "z=z[i]"
   ]
  },
  {
   "cell_type": "code",
   "execution_count": 57,
   "metadata": {},
   "outputs": [],
   "source": [
    "z[\"Amount\"]=float(z[\"Amount\"])\n",
    "z[\"CurrentBalance\"]=float(z[\"CurrentBalance\"])"
   ]
  },
  {
   "cell_type": "code",
   "execution_count": 58,
   "metadata": {},
   "outputs": [
    {
     "data": {
      "text/plain": [
       "{'Type': 'CREDIT',\n",
       " 'Mode': 'FT',\n",
       " 'Amount': 15691.88,\n",
       " 'CurrentBalance': 132518.97,\n",
       " 'valueDate': '2020-06-16'}"
      ]
     },
     "execution_count": 58,
     "metadata": {},
     "output_type": "execute_result"
    }
   ],
   "source": []
  },
  {
   "cell_type": "code",
   "execution_count": 59,
   "metadata": {},
   "outputs": [
    {
     "data": {
      "text/plain": [
       "132518.97"
      ]
     },
     "execution_count": 59,
     "metadata": {},
     "output_type": "execute_result"
    }
   ],
   "source": [
    "z['CurrentBalance']"
   ]
  },
  {
   "cell_type": "code",
   "execution_count": 60,
   "metadata": {},
   "outputs": [
    {
     "data": {
      "text/plain": [
       "'2020-06-16'"
      ]
     },
     "execution_count": 60,
     "metadata": {},
     "output_type": "execute_result"
    }
   ],
   "source": [
    "z['valueDate']"
   ]
  },
  {
   "cell_type": "code",
   "execution_count": 63,
   "metadata": {},
   "outputs": [],
   "source": [
    "from datetime import datetime\n",
    "d=datetime.strptime(z['valueDate'], '%Y-%m-%d').date()"
   ]
  },
  {
   "cell_type": "code",
   "execution_count": 64,
   "metadata": {},
   "outputs": [
    {
     "data": {
      "text/plain": [
       "datetime.date(2020, 6, 16)"
      ]
     },
     "execution_count": 64,
     "metadata": {},
     "output_type": "execute_result"
    }
   ],
   "source": [
    "d"
   ]
  },
  {
   "cell_type": "code",
   "execution_count": null,
   "metadata": {},
   "outputs": [],
   "source": []
  }
 ],
 "metadata": {
  "kernelspec": {
   "display_name": "Python 3",
   "language": "python",
   "name": "python3"
  },
  "language_info": {
   "codemirror_mode": {
    "name": "ipython",
    "version": 3
   },
   "file_extension": ".py",
   "mimetype": "text/x-python",
   "name": "python",
   "nbconvert_exporter": "python",
   "pygments_lexer": "ipython3",
   "version": "3.8.3"
  }
 },
 "nbformat": 4,
 "nbformat_minor": 4
}
